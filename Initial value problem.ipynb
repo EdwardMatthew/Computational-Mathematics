{
 "cells": [
  {
   "cell_type": "code",
   "execution_count": 91,
   "id": "0764d255",
   "metadata": {},
   "outputs": [],
   "source": [
    "import numpy as np\n",
    "import matplotlib.pyplot as plt\n",
    "from numpy.linalg import norm\n",
    "plt.style.use(\"fivethirtyeight\")"
   ]
  },
  {
   "cell_type": "code",
   "execution_count": 92,
   "id": "12c55c3e",
   "metadata": {},
   "outputs": [],
   "source": [
    "def euler(f, x, y0):\n",
    "    n = np.shape(x)[0]\n",
    "    # initializing the vector y as an array of zeros\n",
    "    y = np.zeros(n)\n",
    "    dx = x[1] - x[0]\n",
    "    y[0] = y0\n",
    "    y[1] = y0 + dx * f(x[0],y[0])\n",
    "    for i in range(n-1):\n",
    "        y[i+1] = y[i] + dx*f(x[i],y[i])\n",
    "    return y"
   ]
  },
  {
   "cell_type": "code",
   "execution_count": 93,
   "id": "62d6aca0",
   "metadata": {},
   "outputs": [],
   "source": [
    "def euler_step(f, x, y0, h):\n",
    "    n = np.shape(x)[0]\n",
    "    # initializing the vector y as an array of zeros\n",
    "    y = np.zeros(n)\n",
    "    y[0] = y0\n",
    "    y[1] = y0 + h * f(x[0],y[0])\n",
    "    for i in range(n-1):\n",
    "        y[i+1] = y[i] + h*f(x[i],y[i])\n",
    "    return y"
   ]
  },
  {
   "cell_type": "code",
   "execution_count": 94,
   "id": "85440094",
   "metadata": {},
   "outputs": [],
   "source": [
    "def midpoint(f, x, y0):\n",
    "    n = np.shape(x)[0]\n",
    "    # initializing the vector y as an array of zeros\n",
    "    y = np.zeros(n)\n",
    "    dx = x[1] - x[0]\n",
    "    y[0] = y0\n",
    "    y[1] = y0 + dx * f(x[0],y[0])\n",
    "    for i in range(n-1):\n",
    "        k1 = f(x[i], y[1])\n",
    "        k2 = f(x[i] + dx, y[i] + k1 * dx)\n",
    "        y[i+1] = y[i] + dx * (k1 + k2) / 2\n",
    "    return y"
   ]
  },
  {
   "cell_type": "code",
   "execution_count": 95,
   "id": "a3444fe4",
   "metadata": {},
   "outputs": [],
   "source": [
    "def midpoint_step(f,x,y0,h):\n",
    "    n = np.shape(x)[0]\n",
    "    # initializing the vector y as an array of zeros\n",
    "    y = np.zeros(n)\n",
    "    y[0] = y0\n",
    "    y[1] = y0 + h * f(x[0],y[0])\n",
    "    for i in range(n-1):\n",
    "        k1 = f(x[i], y[1])\n",
    "        k2 = f(x[i] + h, y[i] + k1 * h)\n",
    "        y[i+1] = y[i] + h * (k1 + k2) / 2\n",
    "    return y"
   ]
  },
  {
   "cell_type": "code",
   "execution_count": 96,
   "id": "604a69be",
   "metadata": {},
   "outputs": [
    {
     "name": "stdout",
     "output_type": "stream",
     "text": [
      "10.190527885523629\n",
      "20.43113388204733\n",
      "40.912587143935816\n",
      "5.544503058110415\n",
      "19.402703671003714\n",
      "104.86175511323121\n"
     ]
    }
   ],
   "source": [
    "f = lambda x, y: np.sin(x)\n",
    "x = np.linspace(0, 2*np.pi/100, 10)\n",
    "x1 = np.linspace(0, 2*np.pi, 10)\n",
    "yExact = lambda x: 2 - np.cos(x)\n",
    "yEuler = euler(f, x, 1.0)\n",
    "yEulerStep = euler_step(f, x1, 1.0, 2*np.pi/100)\n",
    "yEulerStep2 = euler_step(f,x1, 1.0, 2*np.pi/50)\n",
    "yEulerStep3 = euler_step(f,x1, 1.0, 2*np.pi/25)\n",
    "yMidpoint = midpoint(f, x, 1.0)\n",
    "yMidpointStep = midpoint_step(f,x,1.0,2*np.pi/100)\n",
    "yMidpointStep1 = midpoint_step(f,x,1.0,2*np.pi/50)\n",
    "yMidpointStep2 = midpoint_step(f,x,1.0,2*np.pi/25)\n",
    "yMidpointStep3 = midpoint_step(f,x,1.0,2*np.pi/10)\n",
    "errEuler = norm(yEulerStep - yExact(x)) / norm(yExact(x)) * 100\n",
    "errEulerStep2 = norm(yEulerStep2 - yExact(x)) / norm(yExact(x)) * 100\n",
    "errEulerStep3 = norm(yEulerStep3 - yExact(x)) / norm(yExact(x)) * 100\n",
    "errMidpoint = norm(yMidpoint - yExact(x)) / norm(yExact(x)) * 100\n",
    "errMidpointStep1 = norm(yMidpointStep1 - yExact(x)) / norm(yExact(x)) * 100\n",
    "errMidpointStep2 = norm(yMidpointStep2 - yExact(x)) / norm(yExact(x)) * 100\n",
    "errMidpointStep3 = norm(yMidpointStep3 - yExact(x)) / norm(yExact(x)) * 100\n",
    "\n",
    "print(errEuler)\n",
    "print(errEulerStep2)\n",
    "print(errEulerStep3)\n",
    "print(errMidpointStep1)\n",
    "print(errMidpointStep2)\n",
    "print(errMidpointStep3)"
   ]
  },
  {
   "cell_type": "code",
   "execution_count": 97,
   "id": "491ad2ec",
   "metadata": {},
   "outputs": [
    {
     "data": {
      "text/plain": [
       "<matplotlib.legend.Legend at 0x20ff5ec9e80>"
      ]
     },
     "execution_count": 97,
     "metadata": {},
     "output_type": "execute_result"
    },
    {
     "data": {
      "image/png": "[encoded data removed]",
      "text/plain": [
       "<Figure size 432x288 with 1 Axes>"
      ]
     },
     "metadata": {},
     "output_type": "display_data"
    }
   ],
   "source": [
    "fig = plt.figure(1); plt.clf()\n",
    "ax = fig.add_subplot(1,1,1)\n",
    "ax.plot(x, yExact(x), label = \"exact\")\n",
    "ax.plot(x, yEuler, \"-o\", label = \"euler\", markersize = 10)\n",
    "# ax.plot(x, yEuler1, \"-o\", label = \"euler1\", markersize = 10)\n",
    "ax.plot(x, yMidpoint, \"-s\", label = \"Midpoint\", markersize = 10)\n",
    "ax.legend()"
   ]
  },
  {
   "cell_type": "code",
   "execution_count": null,
   "id": "5e610549",
   "metadata": {},
   "outputs": [],
   "source": []
  }
 ],
 "metadata": {
  "kernelspec": {
   "display_name": "Python 3",
   "language": "python",
   "name": "python3"
  },
  "language_info": {
   "codemirror_mode": {
    "name": "ipython",
    "version": 3
   },
   "file_extension": ".py",
   "mimetype": "text/x-python",
   "name": "python",
   "nbconvert_exporter": "python",
   "pygments_lexer": "ipython3",
   "version": "3.8.8"
  }
 },
 "nbformat": 4,
 "nbformat_minor": 5
}
