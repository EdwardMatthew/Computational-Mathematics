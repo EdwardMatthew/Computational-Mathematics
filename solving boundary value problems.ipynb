{
 "cells": [
  {
   "cell_type": "code",
   "execution_count": 200,
   "id": "98ddffbb",
   "metadata": {},
   "outputs": [
    {
     "name": "stdout",
     "output_type": "stream",
     "text": [
      "Using matplotlib backend: Qt5Agg\n"
     ]
    }
   ],
   "source": [
    "import numpy as np\n",
    "import matplotlib.pyplot as plt\n",
    "%matplotlib\n",
    "plt.style.use(\"fivethirtyeight\")\n",
    "plt.ion()"
   ]
  },
  {
   "cell_type": "code",
   "execution_count": 201,
   "id": "07d3f0f0",
   "metadata": {},
   "outputs": [],
   "source": [
    "def euler(f,x,y0):\n",
    "    n = np.shape(x)[0]\n",
    "    ns = np.shape(y0)[0]\n",
    "    y = np.zeros((n,ns))\n",
    "    y[0,:] = y0\n",
    "    h = x[1] - x[0]\n",
    "    for i in range(n-1):\n",
    "        y[i+1,:] = y[i,:] + h*f(x[i], y[i,:])\n",
    "    return y"
   ]
  },
  {
   "cell_type": "code",
   "execution_count": 202,
   "id": "582656b6",
   "metadata": {},
   "outputs": [],
   "source": [
    "def problem(x, y):\n",
    "    z1 = y[0]\n",
    "    z2 = y[1]\n",
    "    dz1 = z2\n",
    "    dz2 = z1**2 + x*z1\n",
    "    return np.array([dz1, dz2], dtype=float)"
   ]
  },
  {
   "cell_type": "code",
   "execution_count": 203,
   "id": "59eadbfe",
   "metadata": {},
   "outputs": [],
   "source": [
    "def interpolate_angle(theta1, theta2, y1,y2,y3):\n",
    "    theta3 = theta1 + (y3-y1)/(y2-y1)*(theta2-theta1)\n",
    "    return theta3"
   ]
  },
  {
   "cell_type": "code",
   "execution_count": 204,
   "id": "84caf96a",
   "metadata": {},
   "outputs": [],
   "source": [
    "def interpolate_position(theta1, theta2, theta3, y1, y2):\n",
    "    y3 = y1 + (theta3 - theta1)/(theta2 - theta1) * (y2-y1)\n",
    "    return y3"
   ]
  },
  {
   "cell_type": "code",
   "execution_count": 205,
   "id": "fbc07552",
   "metadata": {},
   "outputs": [
    {
     "name": "stdout",
     "output_type": "stream",
     "text": [
      "[[1.         0.        ]\n",
      " [1.         0.05      ]\n",
      " [1.0025     0.1025    ]\n",
      " [1.007625   0.15776281]\n",
      " [1.01551314 0.21608541]\n",
      " [1.02631741 0.27780389]\n",
      " [1.04020761 0.34329922]\n",
      " [1.05737257 0.41300393]\n",
      " [1.07802276 0.48740979]\n",
      " [1.10239325 0.5670769 ]\n",
      " [1.1307471  0.65264429]\n",
      " [1.16337931 0.74484242]\n",
      " [1.20062143 0.84450792]\n",
      " [1.24284683 0.95260115]\n",
      " [1.29047689 1.07022709]\n",
      " [1.34398824 1.19866031]\n",
      " [1.40392126 1.33937509]\n",
      " [1.47089001 1.49408168]\n",
      " [1.54559409 1.66477038]\n",
      " [1.62883261 1.85376517]\n",
      " [1.72152087 2.0637895 ]]\n"
     ]
    }
   ],
   "source": [
    "x = np.linspace(0.0, 1.0, 21)\n",
    "# y = euler(problem, x, [initial position, initial angle])\n",
    "y0 = 1.0\n",
    "y = euler(problem, x, [y0, 0.0])\n",
    "print(y)"
   ]
  },
  {
   "cell_type": "code",
   "execution_count": 206,
   "id": "a60c28c4",
   "metadata": {},
   "outputs": [
    {
     "data": {
      "text/plain": [
       "(0.8, 2.2)"
      ]
     },
     "execution_count": 206,
     "metadata": {},
     "output_type": "execute_result"
    }
   ],
   "source": [
    "fig = plt.figure(1, figsize=(8,6)); plt.clf()\n",
    "ax = fig.add_subplot(1,1,1)\n",
    "ax.plot(1, 2, 'o')\n",
    "ax.plot(x, y[:,0])\n",
    "ax.set_ylim(0.8, 2.2)"
   ]
  },
  {
   "cell_type": "code",
   "execution_count": 207,
   "id": "982c57c4",
   "metadata": {},
   "outputs": [],
   "source": [
    "def problem2(x, y):\n",
    "    z1 = y[0]\n",
    "    z2 = y[1]\n",
    "    dz1 = z2\n",
    "    dz2 = -(z2/(x+0.001)) - z1\n",
    "    return np.array([dz1, dz2], float)"
   ]
  },
  {
   "cell_type": "code",
   "execution_count": 208,
   "id": "73905570",
   "metadata": {},
   "outputs": [
    {
     "name": "stdout",
     "output_type": "stream",
     "text": [
      "-0.0356033004034528\n"
     ]
    }
   ],
   "source": [
    "x = np.linspace(0.0, 2.0, 21)\n",
    "\n",
    "# first shooting angle\n",
    "theta1 = 0.0\n",
    "y = euler(problem, x, [1.0, theta1])\n",
    "y1 = y [-1,1]\n",
    "yfirst = y[:,0]\n",
    "\n",
    "# second shooting angle\n",
    "theta2 = 3.0\n",
    "y = euler(problem, x, [1.0, theta2])\n",
    "y2 = y[-1,1]\n",
    "ysecond = y[:,0]\n",
    "\n",
    "# interpolating with the third shooting angle as well\n",
    "theta3 = interpolate_angle(theta1, theta2, y1, y2, 0.0)\n",
    "print(theta3)\n",
    "y = euler(problem, x, [1.0, theta3])\n",
    "y3 = y[-1,1]\n",
    "ythird = y[:,0]"
   ]
  },
  {
   "cell_type": "code",
   "execution_count": 209,
   "id": "8c0cb34b",
   "metadata": {},
   "outputs": [
    {
     "data": {
      "text/plain": [
       "(-10.0, 10.0)"
      ]
     },
     "execution_count": 209,
     "metadata": {},
     "output_type": "execute_result"
    }
   ],
   "source": [
    "fig2 = plt.figure(2,figsize=(8,6)); plt.clf(); ax2 = fig2.add_subplot(1,1,1)\n",
    "ax2.plot(x, y[:,0])\n",
    "ax2.set_ylim(-10.0, 10.0)"
   ]
  },
  {
   "cell_type": "code",
   "execution_count": null,
   "id": "c8e1e0d6",
   "metadata": {},
   "outputs": [],
   "source": []
  }
 ],
 "metadata": {
  "kernelspec": {
   "display_name": "Python 3",
   "language": "python",
   "name": "python3"
  },
  "language_info": {
   "codemirror_mode": {
    "name": "ipython",
    "version": 3
   },
   "file_extension": ".py",
   "mimetype": "text/x-python",
   "name": "python",
   "nbconvert_exporter": "python",
   "pygments_lexer": "ipython3",
   "version": "3.8.8"
  }
 },
 "nbformat": 4,
 "nbformat_minor": 5
}
