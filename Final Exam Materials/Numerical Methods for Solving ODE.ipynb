{
 "cells": [
  {
   "cell_type": "markdown",
   "metadata": {},
   "source": [
    "## Numerical Methods for Solving ODE\n",
    "### dy / dx = cos(2x) \n",
    "### y0 = 2.0\n",
    "### x = from 0 to 2 pi"
   ]
  },
  {
   "cell_type": "code",
   "execution_count": 173,
   "metadata": {},
   "outputs": [],
   "source": [
    "import numpy as np\n",
    "import matplotlib.pyplot as plt"
   ]
  },
  {
   "cell_type": "code",
   "execution_count": 174,
   "metadata": {},
   "outputs": [],
   "source": [
    "# Initial value\n",
    "f = lambda x, y : np.cos(2*x)\n",
    "\n",
    "# Calculating exact value \n",
    "exact = lambda x : 2 + np.sin(2*x) / 2\n",
    "\n",
    "# First value of y\n",
    "y0 = 2.0"
   ]
  },
  {
   "cell_type": "code",
   "execution_count": 183,
   "metadata": {},
   "outputs": [],
   "source": [
    "# Euler method\n",
    "def euler(f, x, y0):\n",
    "    n = np.shape(x)[0]\n",
    "    y = np.zeros(n)\n",
    "    dx = x[1] - x[0]\n",
    "    y[0] = y0\n",
    "    for i in range(n-1):\n",
    "        y[i+1] = y[i] + dx * f(x[i], y[i])\n",
    "    return y\n",
    "\n",
    "# Calculating error\n",
    "def errEuler(f, x, y0):\n",
    "    return np.linalg.norm(euler(f, x, y0) - exact(x)) / np.linalg.norm(exact(x)) * 100"
   ]
  },
  {
   "cell_type": "code",
   "execution_count": 197,
   "metadata": {},
   "outputs": [],
   "source": [
    "# Midpoint method\n",
    "def midpoint(f, x, y0):\n",
    "    n = np.shape(x)[0]\n",
    "    y = np.zeros(n)\n",
    "    dx = x[1] - x[0]\n",
    "    y[0] = y0\n",
    "    for i in range(n-1):\n",
    "        k1 = f(x[i], y[i])\n",
    "        k2 = f(x[i] + dx, y[i] + k1 * dx)\n",
    "        y[i+1] = y[i] + dx * (k1 + k2)/2\n",
    "    return y\n",
    "\n",
    "# Calculating error\n",
    "def errMid(f, x, y0):\n",
    "    return np.linalg.norm(midpoint(f, x, y0) - exact(x)) / np.linalg.norm(exact(x)) * 100"
   ]
  },
  {
   "cell_type": "code",
   "execution_count": 186,
   "metadata": {},
   "outputs": [],
   "source": [
    "# Ralston method\n",
    "def ralston(f, x, y0):\n",
    "    n = np.shape(x)[0]\n",
    "    y = np.zeros(n)\n",
    "    dx = x[1] - x[0]\n",
    "    y[0] = y0\n",
    "    for i in range(n-1):\n",
    "        k1 = f(x[i], y[i])\n",
    "        k2 = f(x[i] + (3 / 4 * dx), y[i] + (3 / 4 * k1 * dx))\n",
    "        y[i+1] = y[i] + dx * ((1 / 3 * k1) + (2 / 3 * k2))\n",
    "    return y\n",
    "\n",
    "# Calculating error\n",
    "def errRals(f, x, y0):\n",
    "    return np.linalg.norm(ralston(f, x, y0) - exact(x)) / np.linalg.norm(exact(x)) * 100"
   ]
  },
  {
   "cell_type": "code",
   "execution_count": 187,
   "metadata": {},
   "outputs": [],
   "source": [
    "# Runge-Kutta 4th order method\n",
    "def rungeKutta(f, x, y0):\n",
    "    n = np.shape(x)[0]\n",
    "    y = np.zeros(n)\n",
    "    dx = x[1] - x[0]\n",
    "    y[0] = y0\n",
    "    for i in range(n-1):\n",
    "        k1 = f(x[i], y[i])\n",
    "        k2 = f(x[i] + (1 / 2 * dx), y[i] + (1 / 2 * k1 * dx))\n",
    "        k3 = f(x[i] + (1 / 2 * dx), y[i] + (1 / 2 * k2 * dx))\n",
    "        k4 = f(x[i] + dx, y[i] + k3 * dx)\n",
    "        y[i+1] = y[i] + dx * 1 / 6 * (k1 + 2*k2 + 2*k3 + k4)\n",
    "    return y\n",
    "\n",
    "# Calculating error\n",
    "def errRunge(f, x, y0):\n",
    "    return np.linalg.norm(rungeKutta(f, x, y0) - exact(x)) / np.linalg.norm(exact(x)) * 100"
   ]
  },
  {
   "cell_type": "code",
   "execution_count": 203,
   "metadata": {},
   "outputs": [
    {
     "data": {
      "text/plain": [
       "<matplotlib.legend.Legend at 0x216df9feaf0>"
      ]
     },
     "execution_count": 203,
     "metadata": {},
     "output_type": "execute_result"
    },
    {
     "data": {
      "image/png": "[encoded data removed]",
      "text/plain": [
       "<Figure size 432x288 with 1 Axes>"
      ]
     },
     "metadata": {
      "needs_background": "light"
     },
     "output_type": "display_data"
    }
   ],
   "source": [
    "# Steps and total from the question\n",
    "steps = np.array([np.pi * 2 / 100, np.pi * 2 / 50, np.pi * 2 / 25, np.pi * 2 / 10])\n",
    "total = np.array([100, 50, 25, 10])\n",
    "\n",
    "# Arrays to store all data of each methods\n",
    "dataEuler = np.array([])\n",
    "dataMid = np.array([])\n",
    "dataRals = np.array([])\n",
    "dataRunge = np.array([])\n",
    "\n",
    "# Looping through all steps and total, apply to each methods\n",
    "for i in range(4):\n",
    "    x = np.linspace(0, 2 * np.pi, total[i])\n",
    "    dataEuler = np.append(dataEuler, [errEuler(f, x, y0)])\n",
    "    dataMid = np.append(dataMid, [errMid(f, x, y0)])\n",
    "    dataRals = np.append(dataRals, [errRals(f, x, y0)])\n",
    "    dataRunge = np.append(dataRunge, [errRunge(f, x, y0)])\n",
    "    \n",
    "# Plotting the graph\n",
    "plt.plot(step, dataEuler,\"-mo\", label=\"euler error\")\n",
    "plt.plot(step, dataMid,\"-co\", label=\"midpoint error\")\n",
    "plt.plot(step, dataRals,\"-bo\", label=\"ralston error\")\n",
    "plt.plot(step, dataRunge,\"-ro\", label=\"runge-kutta error\")\n",
    "    \n",
    "plt.yscale(\"log\")\n",
    "plt.title(\"Error estimations for numerical methods for solving ODE\")\n",
    "plt.xlabel(\"Steps sizes\")\n",
    "plt.ylabel(\"Error in %\")\n",
    "    \n",
    "plt.legend()"
   ]
  }
 ],
 "metadata": {
  "kernelspec": {
   "display_name": "Python 3",
   "language": "python",
   "name": "python3"
  },
  "language_info": {
   "codemirror_mode": {
    "name": "ipython",
    "version": 3
   },
   "file_extension": ".py",
   "mimetype": "text/x-python",
   "name": "python",
   "nbconvert_exporter": "python",
   "pygments_lexer": "ipython3",
   "version": "3.8.8"
  }
 },
 "nbformat": 4,
 "nbformat_minor": 4
}
