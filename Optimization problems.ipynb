{
 "cells": [
  {
   "cell_type": "code",
   "execution_count": 119,
   "id": "4d4241e8",
   "metadata": {},
   "outputs": [],
   "source": [
    "import numpy as np\n",
    "import matplotlib.pyplot as plt\n",
    "plt.style.use(\"fivethirtyeight\")"
   ]
  },
  {
   "cell_type": "code",
   "execution_count": 120,
   "id": "f49d2113",
   "metadata": {},
   "outputs": [],
   "source": [
    "xp = np.linspace(-1.0, 5.0, 100)"
   ]
  },
  {
   "cell_type": "code",
   "execution_count": 121,
   "id": "9b192822",
   "metadata": {},
   "outputs": [],
   "source": [
    "f = lambda x: 2*np.cos(x) - x/5\n",
    "df = lambda f, x, h: (f(x+h) - f(x-h)) / (2*h)\n",
    "d2f = lambda f, x, h: (f(x+h) - 2*f(x) + f(x-h)) / (h**2)"
   ]
  },
  {
   "cell_type": "code",
   "execution_count": 122,
   "id": "fd3a7e23",
   "metadata": {},
   "outputs": [],
   "source": [
    "def newton_root(f, x):\n",
    "    h = 1.0E-6\n",
    "    while 1:\n",
    "        x = x - f(x) / df(f, x, h)\n",
    "        if np.abs(f(x)) < 1.0E-5: break\n",
    "    return x"
   ]
  },
  {
   "cell_type": "code",
   "execution_count": 123,
   "id": "3e0427fd",
   "metadata": {},
   "outputs": [],
   "source": [
    "def newton(f, x):\n",
    "    h = 1.0E-6\n",
    "    while 1:\n",
    "        x = x - df(f,x,h) / d2f(f,x,h)\n",
    "        if np.abs(df(f,x,h)) < 1.0E-5: break\n",
    "    return x"
   ]
  },
  {
   "cell_type": "code",
   "execution_count": 124,
   "id": "dfddc67b",
   "metadata": {},
   "outputs": [],
   "source": [
    "def golden(f, xl, xr):\n",
    "    d = xr - xl;\n",
    "    r = (np.sqrt(5) - 1) / 2.0\n",
    "    x1 = xl + r*d\n",
    "    x2 = xr - r*d\n",
    "    while 1:\n",
    "        if f(x1) > f(x2):\n",
    "            xl = x2\n",
    "            x2 = x1\n",
    "            d = xr - xl\n",
    "            x1 = xl + r*d\n",
    "        else:\n",
    "            xr = x1\n",
    "            x1 = x2\n",
    "            d = xr - xl\n",
    "            x2 = xr - r*d\n",
    "        if np.abs(d) < 1.0E-5: break\n",
    "    # returning the optimal point\n",
    "    return (x1 + x2) / 2"
   ]
  },
  {
   "cell_type": "code",
   "execution_count": 125,
   "id": "32ffcfe5",
   "metadata": {},
   "outputs": [],
   "source": [
    "def quadratic(f, x):\n",
    "    # x: [x0, x1, x2]\n",
    "    h = 1.0E-6\n",
    "    while 1:\n",
    "        n1 = f(x[0])*(x[1]**2 - x[2]**2)\n",
    "        n2 = f(x[1])*(x[2]**2 - x[0]**2)\n",
    "        n3 = f(x[2])*(x[0]**2 - x[1]**2)\n",
    "        d1 = 2*f(x[0])*(x[1]-x[2])\n",
    "        d2 = 2*f(x[1])*(x[2]-x[0])\n",
    "        d3 = 2*f(x[2])*(x[0]-x[1])\n",
    "        x3 = (n1+n2+n3)/(d1+d2+d3) \n",
    "        if np.abs(df(f, x3, h))<1.0E-5:\n",
    "            xOpt = x3\n",
    "            break\n",
    "        x[0] = x[1]\n",
    "        x[1] = x[2]\n",
    "        x[2] = x3\n",
    "    return xOpt"
   ]
  },
  {
   "cell_type": "code",
   "execution_count": 128,
   "id": "b4ffd401",
   "metadata": {},
   "outputs": [
    {
     "name": "stdout",
     "output_type": "stream",
     "text": [
      "1.4275517792427852\n",
      "-0.10016743651528873\n",
      "-0.10016716315977567\n",
      "-0.10016802685422636\n"
     ]
    }
   ],
   "source": [
    "x0 = 1.0\n",
    "xRoot = newton_root(f, x0)\n",
    "xPeak = newton(f, x0)\n",
    "xPeakGolden = golden(f, -1.0, 1.0)\n",
    "xPeakQuad = quadratic(f, [-1.0, 1.0, 2.0])\n",
    "print(xRoot)\n",
    "print(xPeak)\n",
    "print(xPeakGolden)\n",
    "print(xPeakQuad)"
   ]
  },
  {
   "cell_type": "code",
   "execution_count": 127,
   "id": "15b1f26c",
   "metadata": {},
   "outputs": [
    {
     "data": {
      "text/plain": [
       "[<matplotlib.lines.Line2D at 0x14fb68b80d0>]"
      ]
     },
     "execution_count": 127,
     "metadata": {},
     "output_type": "execute_result"
    },
    {
     "data": {
      "image/png": "[encoded data removed]",
      "text/plain": [
       "<Figure size 432x288 with 1 Axes>"
      ]
     },
     "metadata": {},
     "output_type": "display_data"
    }
   ],
   "source": [
    "fig = plt.figure(1); plt.clf(); ax = fig.add_subplot(1,1,1)\n",
    "ax.plot(xp, f(xp))\n",
    "ax.plot(x0, f(x0), \"vr\")\n",
    "ax.plot(xRoot, f(xRoot), 'o')\n",
    "ax.plot(xPeak, f(xPeak), 'sr')\n",
    "ax.plot(xPeakGolden, f(xPeakGolden), \"*r\")\n"
   ]
  },
  {
   "cell_type": "code",
   "execution_count": null,
   "id": "55c5cc4b",
   "metadata": {},
   "outputs": [],
   "source": []
  }
 ],
 "metadata": {
  "kernelspec": {
   "display_name": "Python 3",
   "language": "python",
   "name": "python3"
  },
  "language_info": {
   "codemirror_mode": {
    "name": "ipython",
    "version": 3
   },
   "file_extension": ".py",
   "mimetype": "text/x-python",
   "name": "python",
   "nbconvert_exporter": "python",
   "pygments_lexer": "ipython3",
   "version": "3.8.8"
  }
 },
 "nbformat": 4,
 "nbformat_minor": 5
}
